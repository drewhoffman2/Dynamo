{
 "cells": [
  {
   "cell_type": "code",
   "execution_count": 174,
   "id": "ba76e916",
   "metadata": {},
   "outputs": [],
   "source": [
    "from python_speech_features import mfcc\n",
    "import scipy.io.wavfile as wav\n",
    "import numpy as np\n",
    "from tempfile import TemporaryFile\n",
    "import os, pickle, random, operator, math\n",
    "from collections import defaultdict\n",
    "import matplotlib.pyplot as plt"
   ]
  },
  {
   "cell_type": "code",
   "execution_count": 188,
   "id": "56f6976f",
   "metadata": {},
   "outputs": [],
   "source": [
    "def distance(instance1 , instance2 , k):\n",
    "    distance = 0\n",
    "    mm1, cm1 = instance1[0], instance1[1] \n",
    "    mm2, cm2 = instance2[0], instance2[1]\n",
    "    distance = np.trace(np.dot(np.linalg.inv(cm2), cm1)) \n",
    "    distance += (np.dot(np.dot((mm2 - mm1).transpose(), np.linalg.inv(cm2)), mm2 - mm1)) \n",
    "    distance += np.log(np.linalg.det(cm2)) - np.log(np.linalg.det(cm1))\n",
    "    distance -= k\n",
    "    return distance"
   ]
  },
  {
   "cell_type": "code",
   "execution_count": 189,
   "id": "e3915232",
   "metadata": {},
   "outputs": [],
   "source": [
    "def getNeighbors(trainingSet, instance, k):\n",
    "    distances =[]\n",
    "    for i in range(len(trainingSet)):\n",
    "        distances.append((trainingSet[i][2], \n",
    "                          distance(trainingSet[i], instance, k) + distance(instance, trainingSet[i], k)))\n",
    "    distances.sort(key = operator.itemgetter(1))\n",
    "    neighbors = []\n",
    "    for i in range(k):\n",
    "        neighbors.append(distances[i][0])\n",
    "    return neighbors "
   ]
  },
  {
   "cell_type": "code",
   "execution_count": 190,
   "id": "66e60c29",
   "metadata": {},
   "outputs": [],
   "source": [
    "def nearestClass(neighbors):\n",
    "    classVote = {}\n",
    "    for i in range(len(neighbors)):\n",
    "        response = neighbors[i]\n",
    "        if response in classVote:\n",
    "            classVote[response] += 1 \n",
    "        else:\n",
    "            classVote[response] = 1 \n",
    "    return sorted(classVote.items(), key = operator.itemgetter(1), reverse = True)[0][0]"
   ]
  },
  {
   "cell_type": "code",
   "execution_count": 191,
   "id": "31a3f42c",
   "metadata": {},
   "outputs": [],
   "source": [
    "def getAccuracy(testSet, predictions):\n",
    "    correct = 0\n",
    "    for i in range(len(testSet)):\n",
    "        if testSet[i][-1] == predictions[i]:\n",
    "            correct += 1\n",
    "    return (float(correct)) / len(testSet)"
   ]
  },
  {
   "cell_type": "code",
   "execution_count": 192,
   "id": "ebf3b8fc",
   "metadata": {},
   "outputs": [],
   "source": [
    "def confusionMatrix(testSet, predictions):\n",
    "    matrix = np.zeros((10, 10))\n",
    "    for i in range(len(predictions)):\n",
    "        matrix[testSet[i][-1] - 1][predictions[i] - 1] += 1\n",
    "    return matrix"
   ]
  },
  {
   "cell_type": "code",
   "execution_count": 193,
   "id": "4549bbe5",
   "metadata": {},
   "outputs": [],
   "source": [
    "def display_confusion(c_matrix):\n",
    "        \"\"\"\n",
    "        Displays the confusion matrix using matshow\n",
    "        :param c_matrix: square confusion matrix, shape (num_classes, num_classes)\n",
    "        \"\"\"\n",
    "        _, ax = plt.subplots()\n",
    "        ax.matshow(c_matrix, cmap=plt.cm.Blues)\n",
    "        for i in range(c_matrix.shape[0]):\n",
    "            for j in range(c_matrix.shape[0]):\n",
    "                ax.text(i, j, str(c_matrix[j, i]), va = 'center', ha = 'center')\n",
    "        plt.show()"
   ]
  },
  {
   "cell_type": "code",
   "execution_count": 207,
   "id": "2b012d19",
   "metadata": {},
   "outputs": [],
   "source": [
    "directory = \"Data 2/genres_original/\"\n",
    "f = open(\"my.dat\" ,'wb')\n",
    "i = 0\n",
    "for folder in os.listdir(directory):\n",
    "    if folder == \".DS_Store\":\n",
    "        continue\n",
    "    i += 1\n",
    "    if i == 11:\n",
    "        break\n",
    "    for file in os.listdir(directory+folder): \n",
    "        if file == \".DS_Store\" or file == \"jazz.00054.wav\":\n",
    "            continue\n",
    "        (rate,sig) = wav.read(directory + folder + \"/\" +file)\n",
    "        mfcc_feat = mfcc(sig, rate, winlen = 0.020, appendEnergy = False)\n",
    "        covariance = np.cov(np.matrix.transpose(mfcc_feat))\n",
    "        mean_matrix = mfcc_feat.mean(0)\n",
    "        feature = (mean_matrix, covariance, i)\n",
    "        pickle.dump(feature, f)\n",
    "f.close()"
   ]
  },
  {
   "cell_type": "code",
   "execution_count": 208,
   "id": "1007ee57",
   "metadata": {},
   "outputs": [],
   "source": [
    "dataset = []\n",
    "def loadDataset(filename, split, trSet, teSet):\n",
    "    with open(\"my.dat\" , 'rb') as f:\n",
    "        while True:\n",
    "            try:\n",
    "                dataset.append(pickle.load(f))\n",
    "            except EOFError:\n",
    "                f.close()\n",
    "                break  \n",
    "    for i in range(len(dataset)):\n",
    "        if random.random() < split :      \n",
    "            trSet.append(dataset[i])\n",
    "        else:\n",
    "            teSet.append(dataset[i])  \n",
    "trainingSet = []\n",
    "testSet = []\n",
    "loadDataset(\"my.dat\" , 0.66, trainingSet, testSet)"
   ]
  },
  {
   "cell_type": "code",
   "execution_count": 209,
   "id": "ef969cbe",
   "metadata": {},
   "outputs": [
    {
     "name": "stdout",
     "output_type": "stream",
     "text": [
      "0.7002967359050445\n"
     ]
    }
   ],
   "source": [
    "n = len(testSet)\n",
    "predictions = []\n",
    "for i in range (n):\n",
    "    predictions.append(nearestClass(getNeighbors(trainingSet, testSet[i] , 4)))\n",
    "accuracy1 = getAccuracy(testSet , predictions)\n",
    "print(accuracy1)\n",
    "confMatrix = confusionMatrix(testSet, predictions)"
   ]
  },
  {
   "cell_type": "code",
   "execution_count": 108,
   "id": "5da8baa4",
   "metadata": {},
   "outputs": [
    {
     "data": {
      "text/plain": [
       "<function matplotlib.pyplot.show(close=None, block=None)>"
      ]
     },
     "execution_count": 108,
     "metadata": {},
     "output_type": "execute_result"
    },
    {
     "data": {
      "image/png": "[encoded data removed]",
      "text/plain": [
       "<Figure size 432x288 with 1 Axes>"
      ]
     },
     "metadata": {
      "needs_background": "light"
     },
     "output_type": "display_data"
    }
   ],
   "source": [
    "n = len(testSet)\n",
    "accs = []\n",
    "for k in range(1, 11): \n",
    "    predictions = []\n",
    "    for i in range (n):\n",
    "        predictions.append(nearestClass(getNeighbors(trainingSet, testSet[i] , k)))\n",
    "    accs.append(getAccuracy(testSet, predictions))\n",
    "plt.plot(range(1, 11), accs)\n",
    "plt.xlabel(\"Number of neighbours\")\n",
    "plt.ylabel(\"Accuracy\")\n",
    "plt.show"
   ]
  },
  {
   "cell_type": "code",
   "execution_count": 107,
   "id": "5832d174",
   "metadata": {},
   "outputs": [
    {
     "name": "stdout",
     "output_type": "stream",
     "text": [
      "[[27.  0.  3.  0.  1.  0.  0.  1.  0.  0.]\n",
      " [ 0. 27.  2.  2.  0.  0.  0.  2.  1.  0.]\n",
      " [ 1.  1. 25.  1.  2.  0.  2.  2.  0.  0.]\n",
      " [ 0.  0.  0. 22.  0.  0.  0.  2.  3.  0.]\n",
      " [ 0.  1.  2.  0. 25.  0.  1.  5.  0.  0.]\n",
      " [ 0.  0.  1.  0.  2. 33.  0.  0.  0.  1.]\n",
      " [ 1.  1.  9.  3.  4.  0. 20.  1.  4.  0.]\n",
      " [ 3.  2.  2.  0.  3.  0.  3. 32.  0.  0.]\n",
      " [ 0.  0.  1.  1.  2.  0.  4.  1. 24.  1.]\n",
      " [ 0.  0.  2.  0.  1.  5.  0.  0.  2. 32.]]\n"
     ]
    },
    {
     "data": {
      "image/png": "[encoded data removed]",
      "text/plain": [
       "<Figure size 432x288 with 1 Axes>"
      ]
     },
     "metadata": {
      "needs_background": "light"
     },
     "output_type": "display_data"
    }
   ],
   "source": [
    "# 1 - pop\n",
    "# 2 - metal \n",
    "# 3 - disco \n",
    "# 4 - blues \n",
    "# 5 - reggae\n",
    "# 6 - classical\n",
    "# 7 - rock\n",
    "# 8 - hiphop\n",
    "# 9 - country \n",
    "#10 - jazz\n",
    "print(confMatrix)\n",
    "display_confusion(confMatrix)\n",
    "# which genres have higher accuracies \n",
    "# test with certain songs that are obviously part of a certain genre - accuracy test"
   ]
  },
  {
   "cell_type": "code",
   "execution_count": 210,
   "id": "5ce37313",
   "metadata": {},
   "outputs": [
    {
     "name": "stdout",
     "output_type": "stream",
     "text": [
      "defaultdict(<class 'int'>, {1: 'pop', 2: 'metal', 3: 'disco', 4: 'blues', 5: 'reggae', 6: 'classical', 7: 'rock', 8: 'hiphop', 9: 'country', 10: 'jazz'})\n"
     ]
    }
   ],
   "source": [
    "results = defaultdict(int)\n",
    "i = 1\n",
    "for folder in os.listdir(\"/Users/jishnuraychaudhuri/Documents/CU Boulder/Courses/3. Junior/Semester 2/CSCI 4622/Project/Data 2/genres_original/\"):\n",
    "    if folder == \".DS_Store\":\n",
    "        continue\n",
    "    results[i] = folder\n",
    "    i += 1\n",
    "print(results)"
   ]
  },
  {
   "cell_type": "code",
   "execution_count": 211,
   "id": "5a5be05c",
   "metadata": {},
   "outputs": [
    {
     "name": "stderr",
     "output_type": "stream",
     "text": [
      "/var/folders/w3/bc1b1qks63988944mdvz6str0000gn/T/ipykernel_4650/1471026153.py:4: WavFileWarning: Chunk (non-data) not understood, skipping it.\n",
      "  (rate, sig) = wav.read(\"tests/\" + song)\n",
      "WARNING:root:frame length (882) is greater than FFT size (512), frame will be truncated. Increase NFFT to avoid.\n",
      "WARNING:root:frame length (882) is greater than FFT size (512), frame will be truncated. Increase NFFT to avoid.\n",
      "WARNING:root:frame length (882) is greater than FFT size (512), frame will be truncated. Increase NFFT to avoid.\n",
      "WARNING:root:frame length (882) is greater than FFT size (512), frame will be truncated. Increase NFFT to avoid.\n",
      "WARNING:root:frame length (882) is greater than FFT size (512), frame will be truncated. Increase NFFT to avoid.\n",
      "WARNING:root:frame length (882) is greater than FFT size (512), frame will be truncated. Increase NFFT to avoid.\n",
      "WARNING:root:frame length (960) is greater than FFT size (512), frame will be truncated. Increase NFFT to avoid.\n",
      "WARNING:root:frame length (882) is greater than FFT size (512), frame will be truncated. Increase NFFT to avoid.\n",
      "WARNING:root:frame length (882) is greater than FFT size (512), frame will be truncated. Increase NFFT to avoid.\n",
      "WARNING:root:frame length (882) is greater than FFT size (512), frame will be truncated. Increase NFFT to avoid.\n"
     ]
    }
   ],
   "source": [
    "testSongs = \"22-30.wav billys_blues-30.wav enter_sandman-30.wav fur_elise-30.wav mercy_mercy_mercy-30.wav ny_state_of_mind-30.wav stayin_alive-30.wav sweet_child_o_mine-30.wav take_me_home_country_roads-30.wav three_little_birds-30.wav\".split()\n",
    "testResults = {}\n",
    "for song in testSongs: \n",
    "    (rate, sig) = wav.read(\"tests/\" + song)\n",
    "    mfcc_feat = mfcc(sig, rate, winlen = 0.020, appendEnergy = False)\n",
    "    covariance = np.cov(np.matrix.transpose(mfcc_feat))\n",
    "    mean_matrix = mfcc_feat.mean(0)\n",
    "    feature = (mean_matrix,covariance,0)\n",
    "    pred = nearestClass(getNeighbors(dataset ,feature , 5))\n",
    "    testResults[song] = results[pred]"
   ]
  },
  {
   "cell_type": "code",
   "execution_count": 213,
   "id": "1e98ad21",
   "metadata": {},
   "outputs": [
    {
     "name": "stdout",
     "output_type": "stream",
     "text": [
      "22-30.wav: pop\n",
      "billys_blues-30.wav: hiphop\n",
      "enter_sandman-30.wav: pop\n",
      "fur_elise-30.wav: country\n",
      "mercy_mercy_mercy-30.wav: reggae\n",
      "ny_state_of_mind-30.wav: hiphop\n",
      "stayin_alive-30.wav: pop\n",
      "sweet_child_o_mine-30.wav: pop\n",
      "take_me_home_country_roads-30.wav: pop\n",
      "three_little_birds-30.wav: pop\n"
     ]
    }
   ],
   "source": [
    "for s, p in testResults.items():\n",
    "    print(s + \": \" + p)"
   ]
  }
 ],
 "metadata": {
  "kernelspec": {
   "display_name": "Python 3 (ipykernel)",
   "language": "python",
   "name": "python3"
  },
  "language_info": {
   "codemirror_mode": {
    "name": "ipython",
    "version": 3
   },
   "file_extension": ".py",
   "mimetype": "text/x-python",
   "name": "python",
   "nbconvert_exporter": "python",
   "pygments_lexer": "ipython3",
   "version": "3.9.7"
  }
 },
 "nbformat": 4,
 "nbformat_minor": 5
}
